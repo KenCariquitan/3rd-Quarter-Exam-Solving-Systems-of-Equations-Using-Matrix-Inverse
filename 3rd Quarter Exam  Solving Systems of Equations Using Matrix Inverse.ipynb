{
 "cells": [
  {
   "cell_type": "markdown",
   "id": "2ebc7fb1-25f1-41e0-b63e-01e6781a0be4",
   "metadata": {},
   "source": [
    "# Part 1: Theory"
   ]
  },
  {
   "cell_type": "code",
   "execution_count": 31,
   "id": "b5fbfdac-a785-4c35-8ca9-a59af3c688d8",
   "metadata": {},
   "outputs": [
    {
     "name": "stdout",
     "output_type": "stream",
     "text": [
      "Solution vector X:\n",
      "[ 1.95070423  2.04225352  1.94366197 -1.22535211  2.3028169 ]\n"
     ]
    }
   ],
   "source": [
    "import numpy as np\n",
    "\n",
    "A = np.array([[2, 1, -1, 0, 0],\n",
    "              [1, 3, 0, -1, -1],\n",
    "              [3, -1, 2, 0, 1],\n",
    "              [0, 4, -1, 1, 0],\n",
    "              [1, -2, 0, -1, 3]])\n",
    "\n",
    "B = np.array([4, 7, 10, 5, 6])\n",
    "\n",
    "if np.linalg.det(A) != 0:\n",
    "    A_inv = np.linalg.inv(A)\n",
    "\n",
    "    X = np.dot(A_inv, B)\n",
    "\n",
    "    print(\"Solution vector X:\")\n",
    "    print(X)\n",
    "else:\n",
    "    print(\"Matrix A is not invertible.\")"
   ]
  },
  {
   "cell_type": "markdown",
   "id": "e513d399-2bb2-4622-af31-3e4e5f685a91",
   "metadata": {},
   "source": [
    "# Part 2: Application to Real-World Computer Science Problem"
   ]
  },
  {
   "cell_type": "code",
   "execution_count": 33,
   "id": "b54e1874-9e0a-4c02-b5eb-cc98d916aa9d",
   "metadata": {},
   "outputs": [
    {
     "name": "stdout",
     "output_type": "stream",
     "text": [
      "Solution vector X (data flow between servers):\n",
      "[ 7.36462094 32.23826715 -1.62454874 15.05415162 16.93140794]\n"
     ]
    }
   ],
   "source": [
    "import numpy as np\n",
    "\n",
    "A = np.array([[3, 2, 1, 1, 0],\n",
    "              [1, 4, 2, 0, 1],\n",
    "              [2, 3, 4, 1, 0],\n",
    "              [1, 1, 3, 5, 0],\n",
    "              [0, 1, 2, 4, 3]])\n",
    "\n",
    "B = np.array([100, 150, 120, 110, 140])\n",
    "\n",
    "if np.linalg.det(A) != 0:\n",
    "    A_inv = np.linalg.inv(A)\n",
    "    \n",
    "    X = np.dot(A_inv, B)\n",
    "    \n",
    "    print(\"Solution vector X (data flow between servers):\")\n",
    "    print(X)\n",
    "else:\n",
    "    print(\"Matrix A is not invertible.\")"
   ]
  },
  {
   "cell_type": "markdown",
   "id": "9c33b624-8746-465c-8708-a225addaa2b6",
   "metadata": {},
   "source": [
    "# Part 3: Step-by-Step Instructions"
   ]
  },
  {
   "cell_type": "code",
   "execution_count": 35,
   "id": "ca1daac5-f4b1-44df-b716-1da37ffc43ae",
   "metadata": {},
   "outputs": [
    {
     "name": "stdout",
     "output_type": "stream",
     "text": [
      "Determinant of A: 277.0000000000002\n",
      "Solution (Unknowns):\n",
      "[ 7.36462094 32.23826715 -1.62454874 15.05415162 16.93140794]\n"
     ]
    }
   ],
   "source": [
    "#  Define the coefficient matrix A (5x5 matrix)\n",
    "A = np.array([\n",
    "    [3, 2, 1, 1, 0],\n",
    "    [1, 4, 2, 0, 1],\n",
    "    [2, 3, 4, 1, 0],\n",
    "    [1, 1, 3, 5, 0],\n",
    "    [0, 1, 2, 4, 3]\n",
    "])\n",
    "\n",
    "# Define the constant matrix B (5x1 matrix)\n",
    "B = np.array([100, 150, 120, 110, 140])\n",
    "\n",
    "# Check if matrix A is invertible (determinant should not be zero)\n",
    "det_A = np.linalg.det(A)\n",
    "print(f\"Determinant of A: {det_A}\")\n",
    "\n",
    "if det_A == 0:\n",
    "    print(\"Matrix A is singular and cannot be inverted!\")\n",
    "else:\n",
    "    # Find the inverse of matrix A\n",
    "    A_inv = np.linalg.inv(A)\n",
    "\n",
    "    # Solve for X using the matrix inverse method\n",
    "    X = np.dot(A_inv, B)\n",
    "\n",
    "    print(\"Solution (Unknowns):\")\n",
    "    print(X)"
   ]
  },
  {
   "cell_type": "markdown",
   "id": "87ae288a-3491-4f5d-a420-d3d68e23d48f",
   "metadata": {},
   "source": [
    "# Part 4: Practice Problems"
   ]
  },
  {
   "cell_type": "markdown",
   "id": "d52e8ffa-6d92-4844-be31-10f90c49f431",
   "metadata": {},
   "source": [
    "## Problem 1"
   ]
  },
  {
   "cell_type": "code",
   "execution_count": 38,
   "id": "0d3186fa-a4ef-4c4b-beb1-f873f68815e0",
   "metadata": {},
   "outputs": [
    {
     "name": "stdout",
     "output_type": "stream",
     "text": [
      "Solution to Problem 1:\n",
      "x_1 = 2.64, x_2 = 1.62, x_3 = 1.90\n"
     ]
    }
   ],
   "source": [
    "import numpy as np\n",
    "\n",
    "A = np.array([\n",
    "    [2, 1, -1],\n",
    "    [-1, 3, 2],\n",
    "    [1, -2, 4]\n",
    "])\n",
    "\n",
    "B = np.array([5, 6, 7])\n",
    "\n",
    "X = np.linalg.solve(A, B)\n",
    "\n",
    "print(\"Solution to Problem 1:\")\n",
    "print(f\"x_1 = {X[0]:.2f}, x_2 = {X[1]:.2f}, x_3 = {X[2]:.2f}\")\n"
   ]
  },
  {
   "cell_type": "markdown",
   "id": "d0b5c4ac-2753-4543-8734-9b16c1277cf7",
   "metadata": {},
   "source": [
    "## Problem 2"
   ]
  },
  {
   "cell_type": "code",
   "execution_count": 40,
   "id": "413ea447-b97f-418d-b1e3-e40b9507198c",
   "metadata": {},
   "outputs": [
    {
     "name": "stdout",
     "output_type": "stream",
     "text": [
      "Solution to Problem 2:\n",
      "x_1 = -23.87\n",
      "x_2 = 137.60\n",
      "x_3 = -336.00\n",
      "x_4 = 242.53\n",
      "x_5 = 241.87\n"
     ]
    }
   ],
   "source": [
    "A = np.array([\n",
    "    [5, 3, 1, 1, 0],\n",
    "    [4, 6, 2, 0, 1],\n",
    "    [2, 7, 3, 1, 0],\n",
    "    [1, 2, 4, 5, 0],\n",
    "    [3, 4, 5, 0, 6]\n",
    "])\n",
    "\n",
    "B = np.array([200, 300, 150, 120, 250])\n",
    "\n",
    "X = np.linalg.solve(A, B)\n",
    "\n",
    "print(\"Solution to Problem 2:\")\n",
    "for i, value in enumerate(X, start=1):\n",
    "    print(f\"x_{i} = {value:.2f}\")"
   ]
  },
  {
   "cell_type": "markdown",
   "id": "60b28965-8f3c-4c10-8cc3-0be6414bda94",
   "metadata": {},
   "source": [
    "## Problem 3"
   ]
  },
  {
   "cell_type": "code",
   "execution_count": 42,
   "id": "4dd85755-bb1e-46a7-9a75-c51ee356dac5",
   "metadata": {},
   "outputs": [
    {
     "name": "stdout",
     "output_type": "stream",
     "text": [
      "Solution to Problem 3:\n",
      "x_1 = 0.18\n",
      "x_2 = 0.61\n",
      "x_3 = 1.17\n",
      "x_4 = 2.32\n",
      "x_5 = 8.15\n",
      "x_6 = 4.84\n",
      "x_7 = 0.19\n"
     ]
    }
   ],
   "source": [
    "A = np.array([\n",
    "    [2, 1, -1, 0, 0, 1, 2],\n",
    "    [1, 3, 2, -1, 1, 0, -1],\n",
    "    [-2, 1, 4, 2, 0, 1, 3],\n",
    "    [0, 2, -1, 3, 1, 1, 0],\n",
    "    [1, -1, 0, 1, 4, -2, 1],\n",
    "    [3, 0, 1, -1, 2, 3, -1],\n",
    "    [1, -2, 1, 0, 3, 2, 4]\n",
    "])\n",
    "\n",
    "B = np.array([5, 10, 15, 20, 25, 30, 35])\n",
    "\n",
    "X = np.linalg.solve(A, B)\n",
    "\n",
    "print(\"Solution to Problem 3:\")\n",
    "for i, value in enumerate(X, start=1):\n",
    "    print(f\"x_{i} = {value:.2f}\")"
   ]
  },
  {
   "cell_type": "markdown",
   "id": "63576f3e-f35c-4107-b35e-73af906f8b4d",
   "metadata": {},
   "source": [
    "## Problem 4\n"
   ]
  },
  {
   "cell_type": "code",
   "execution_count": 44,
   "id": "9f51d915-cbc9-4401-952b-22138797982b",
   "metadata": {},
   "outputs": [
    {
     "name": "stdout",
     "output_type": "stream",
     "text": [
      "Solution to Problem 4:\n",
      "x_1 = 12.80\n",
      "x_2 = -3.26\n",
      "x_3 = 18.11\n",
      "x_4 = 9.47\n",
      "x_5 = 14.55\n"
     ]
    }
   ],
   "source": [
    "A = np.array([\n",
    "    [3, 2, 1, 0, 0],\n",
    "    [1, 4, 2, 1, 1],\n",
    "    [0, 1, 3, 2, 0],\n",
    "    [0, 0, 1, 5, 1],\n",
    "    [2, 1, 0, 1, 4]\n",
    "])\n",
    "\n",
    "B = np.array([50, 60, 70, 80, 90])\n",
    "\n",
    "X = np.linalg.solve(A, B)\n",
    "\n",
    "print(\"Solution to Problem 4:\")\n",
    "for i, value in enumerate(X, start=1):\n",
    "    print(f\"x_{i} = {value:.2f}\")"
   ]
  },
  {
   "cell_type": "markdown",
   "id": "942b01d2-fbaa-4018-b6bc-153d5a4f6bb1",
   "metadata": {},
   "source": [
    "## Problem 5"
   ]
  },
  {
   "cell_type": "code",
   "execution_count": 46,
   "id": "39f3fe47-e647-4a65-a7ad-fb7f1a0a31fc",
   "metadata": {},
   "outputs": [],
   "source": [
    "def solve_system(A, B):\n",
    "    \"\"\"\n",
    "    Solve a system of equations A * X = B using matrix inversion.\n",
    "    \"\"\"\n",
    "    try:\n",
    "        X = np.linalg.solve(A, B)\n",
    "        \n",
    "        print(\"Solution:\")\n",
    "        for i, value in enumerate(X, start=1):\n",
    "            print(f\"x_{i} = {value:.2f}\")\n",
    "    except np.linalg.LinAlgError as e:\n",
    "        print(\"Error:\", e)"
   ]
  }
 ],
 "metadata": {
  "kernelspec": {
   "display_name": "Python 3 (ipykernel)",
   "language": "python",
   "name": "python3"
  },
  "language_info": {
   "codemirror_mode": {
    "name": "ipython",
    "version": 3
   },
   "file_extension": ".py",
   "mimetype": "text/x-python",
   "name": "python",
   "nbconvert_exporter": "python",
   "pygments_lexer": "ipython3",
   "version": "3.12.4"
  }
 },
 "nbformat": 4,
 "nbformat_minor": 5
}
